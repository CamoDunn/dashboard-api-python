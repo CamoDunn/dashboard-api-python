{
 "cells": [
  {
   "cell_type": "markdown",
   "metadata": {},
   "source": [
    "# Meraki Python SDK Demo: Offline Switch Finder\n",
    "\n",
    "*This notebook demonstrates using the Meraki Python SDK to create a list of all the switches in a network that are offline.*\n",
    "\n",
    "---\n",
    "\n",
    ">NB: Throughout this notebook, we will print values for demonstration purposes. In a production Python script, the coder would likely remove these print statements to clean up the console output."
   ]
  },
  {
   "cell_type": "markdown",
   "metadata": {},
   "source": [
    "In this first cell, we import the required meraki and os modules, and open the Dashboard API connection using the SDK."
   ]
  },
  {
   "cell_type": "code",
   "execution_count": 1,
   "metadata": {
    "tags": []
   },
   "outputs": [
    {
     "output_type": "stream",
     "name": "stderr",
     "text": "meraki:     INFO > Meraki dashboard API session initialized with these parameters: {'version': '1.0.0b13', 'api_key': '************************************dfb9', 'base_url': 'https://api.meraki.com/api/v1', 'single_request_timeout': 60, 'certificate_path': '', 'requests_proxy': '', 'wait_on_rate_limit': True, 'nginx_429_retry_wait_time': 60, 'action_batch_retry_wait_time': 60, 'retry_4xx_error': False, 'retry_4xx_error_wait_time': 60, 'maximum_retries': 2, 'simulate': False, 'be_geo_id': None, 'caller': None}\n"
    }
   ],
   "source": [
    "# Rely on meraki SDK, os, and tablib -- more on tablib later\n",
    "import meraki\n",
    "import os\n",
    "import tablib\n",
    "\n",
    "# We're also going to import Python's built-in JSON module, but only to make the console output pretty. In production, you wouldn't need any of the printing calls at all, nor this import!\n",
    "import json\n",
    "\n",
    "# Setting API key this way, and storing it in the env variables, lets us keep the sensitive API key out of the script itself\n",
    "# The meraki.DashboardAPI() method does not require explicitly passing this value; it will check the environment for a variable\n",
    "# called 'MERAKI_DASHBOARD_API_KEY' on its own. In this case, API_KEY is shown simply as an reference to where that information is\n",
    "# stored.\n",
    "API_KEY = os.getenv('MERAKI_DASHBOARD_API_KEY')\n",
    "\n",
    "# Initialize the Dashboard connection.\n",
    "dashboard = meraki.DashboardAPI()"
   ]
  },
  {
   "cell_type": "markdown",
   "metadata": {},
   "source": [
    "Let's make a basic pretty print formatter, `printj()`. It will make reading the JSON later a lot easier, but won't be necessary in production scripts."
   ]
  },
  {
   "cell_type": "code",
   "execution_count": 2,
   "metadata": {},
   "outputs": [],
   "source": [
    "def printj(ugly_json_object):\n",
    "    \n",
    "    # The json.dumps() method converts a JSON object into human-friendly formatted text\n",
    "    pretty_json_string = json.dumps(ugly_json_object, indent = 2, sort_keys = False)\n",
    "\n",
    "    return print(pretty_json_string)"
   ]
  },
  {
   "cell_type": "markdown",
   "metadata": {},
   "source": [
    "Most API calls require passing values for the organization ID and/or the network ID. In this second cell, we fetch a list of the organizations the API key can access, then pick the first org in the list, and the first network in that organization, to use for later operations. You could re-use this code presuming your API key only has access to a single organization, and that organization only contains a single network. Otherwise, you would want to review the organizations object declared and printed here to review its contents."
   ]
  },
  {
   "cell_type": "code",
   "execution_count": 3,
   "metadata": {
    "tags": []
   },
   "outputs": [
    {
     "output_type": "stream",
     "name": "stderr",
     "text": "meraki:     INFO > organizations, getOrganizations - 200 OK\nOrganizations:\n[\n  {\n    \"id\": \"102908\",\n    \"name\": \"Olympus\",\n    \"url\": \"https://n80.meraki.com/o/99uSJa/manage/organization/overview\"\n  }\n]\n\nThe firstOrganizationId is 102908, and its name is Olympus.\n"
    }
   ],
   "source": [
    "# Let's make it easier to call this data later\n",
    "# getOrganizations will return all orgs to which the supplied API key has access\n",
    "organizations = dashboard.organizations.getOrganizations()\n",
    "print('Organizations:')\n",
    "printj(organizations)\n",
    "\n",
    "# This example presumes we want to use the first organization as the scope for later operations. \n",
    "firstOrganizationId = organizations[0]['id']\n",
    "firstOrganizationName = organizations[0]['name']\n",
    "\n",
    "# Print a blank line for legibility before showing the firstOrganizationId\n",
    "print('')\n",
    "print(f'The firstOrganizationId is {firstOrganizationId}, and its name is {firstOrganizationName}.')"
   ]
  },
  {
   "cell_type": "markdown",
   "metadata": {},
   "source": [
    "This example presumes we want to use the first network of the chosen organization as the scope for later operations. It is fine to re-use presuming that your organization only contains a single network. Otherwise, you would want to review the organizations object declared and printed below to review its contents."
   ]
  },
  {
   "cell_type": "code",
   "execution_count": 4,
   "metadata": {
    "tags": []
   },
   "outputs": [
    {
     "output_type": "stream",
     "name": "stderr",
     "text": "meraki:     INFO > organizations, getOrganizationNetworks; page 1 - 200 OK\nNetworks:\n[\n  {\n    \"enrollmentString\": null,\n    \"id\": \"L_607985949695028290\",\n    \"name\": \"Edgehill2\",\n    \"organizationId\": \"102908\",\n    \"productTypes\": [\n      \"appliance\",\n      \"camera\",\n      \"cellularGateway\",\n      \"switch\",\n      \"wireless\"\n    ],\n    \"tags\": [],\n    \"timeZone\": \"America/Los_Angeles\",\n    \"url\": \"https://n80.meraki.com/Edgehill2-applia/n/wyTiUcqb/manage/usage/list\"\n  },\n  {\n    \"enrollmentString\": null,\n    \"id\": \"L_607985949695028346\",\n    \"name\": \"Virtual\",\n    \"organizationId\": \"102908\",\n    \"productTypes\": [\n      \"appliance\",\n      \"camera\",\n      \"switch\",\n      \"wireless\"\n    ],\n    \"tags\": [],\n    \"timeZone\": \"America/Los_Angeles\",\n    \"url\": \"https://n80.meraki.com/Virtual-camera/n/mlMVmcqb/manage/usage/list\"\n  },\n  {\n    \"enrollmentString\": null,\n    \"id\": \"L_607985949695028380\",\n    \"name\": \"Western\",\n    \"organizationId\": \"102908\",\n    \"productTypes\": [\n      \"appliance\",\n      \"cellularGateway\",\n      \"switch\",\n      \"wireless\"\n    ],\n    \"tags\": [],\n    \"timeZone\": \"America/Los_Angeles\",\n    \"url\": \"https://n80.meraki.com/Western-wireless/n/nQiaYbqb/manage/usage/list\"\n  },\n  {\n    \"enrollmentString\": null,\n    \"id\": \"L_607985949695028389\",\n    \"name\": \"Edgehill\",\n    \"organizationId\": \"102908\",\n    \"productTypes\": [\n      \"appliance\",\n      \"cellularGateway\"\n    ],\n    \"tags\": [],\n    \"timeZone\": \"America/Los_Angeles\",\n    \"url\": \"https://n80.meraki.com/Edgehill-cellula/n/SXmkodqb/manage/usage/list\"\n  },\n  {\n    \"enrollmentString\": null,\n    \"id\": \"N_607985949695061056\",\n    \"name\": \"Switch\",\n    \"organizationId\": \"102908\",\n    \"productTypes\": [\n      \"switch\"\n    ],\n    \"tags\": [],\n    \"timeZone\": \"America/Los_Angeles\",\n    \"url\": \"https://n80.meraki.com/Switch/n/4QMMjbqb/manage/usage/list\"\n  }\n]\n\nThe firstNetworkId is L_607985949695028290, and its name is Edgehill2.\n"
    }
   ],
   "source": [
    "networks = dashboard.organizations.getOrganizationNetworks(organizationId=firstOrganizationId)\n",
    "print('Networks:')\n",
    "printj(networks)\n",
    "\n",
    "firstNetworkId = networks[0]['id']\n",
    "firstNetworkName = networks[0]['name']\n",
    "\n",
    "# Print a blank line for legibility before showing the firstNetworkId\n",
    "print('')\n",
    "\n",
    "print(f'The firstNetworkId is {firstNetworkId}, and its name is {firstNetworkName}.')"
   ]
  },
  {
   "cell_type": "markdown",
   "metadata": {},
   "source": [
    "Now that we've got the organization and network values figured out, we can get to the ask at hand:\n",
    "\n",
    "> Show me a list of all the offline switches in a network.\n",
    "\n",
    "The `getOrganizationDevicesStatuses` endpoint will return the devices (switches and otherwise) and their statuses, but it will not return their model numbers. To get that info, we use `getOrganizationDevices`. \n",
    "\n",
    "So first, we create the `devices` list. Then we create a list of those devices' statuses in `device_statuses`. Then, we use a [list comprehension](https://www.datacamp.com/community/tutorials/python-list-comprehension) to find all instances of switches in the `devices` list and put them in a new list, `devices_switches`.  "
   ]
  },
  {
   "cell_type": "code",
   "execution_count": 5,
   "metadata": {
    "tags": []
   },
   "outputs": [
    {
     "output_type": "stream",
     "name": "stderr",
     "text": "meraki:     INFO > organizations, getOrganizationDevices; page 1 - 200 OK\n      meraki:     INFO > organizations, getOrganizationDevicesStatuses; page 1 - 200 OK\nThese are the switches:\n[\n  {\n    \"address\": \"4111 Edgehill Dr, Los Angeles, CA 90008\",\n    \"configurationUpdatedAt\": \"2020-07-21T01:57:44Z\",\n    \"firmware\": \"switch-12-17\",\n    \"lanIp\": \"172.17.0.4\",\n    \"lat\": 34.00968,\n    \"lng\": -118.33069,\n    \"mac\": \"34:56:fe:cc:b9:84\",\n    \"model\": \"MS120-8LP\",\n    \"name\": \"Edgehill MS120-8LP\",\n    \"networkId\": \"L_607985949695028290\",\n    \"notes\": \"\",\n    \"serial\": \"Q2BX-DEZ3-LGMD\",\n    \"tags\": [],\n    \"url\": \"https://n80.meraki.com/Edgehill2-switch/n/V3nOZcqb/manage/nodes/new_list/57548246661508\"\n  },\n  {\n    \"address\": \"\",\n    \"configurationUpdatedAt\": \"2020-07-07T00:08:05Z\",\n    \"firmware\": \"Not running configured version\",\n    \"lanIp\": null,\n    \"lat\": 37.4180951010362,\n    \"lng\": -122.098531723022,\n    \"mac\": \"4c:c8:a1:06:00:f8\",\n    \"model\": \"MS250-24\",\n    \"name\": \"\",\n    \"networkId\": \"L_607985949695028346\",\n    \"notes\": \"\",\n    \"serial\": \"QBSB-AK7F-URKC\",\n    \"tags\": [],\n    \"url\": \"https://n80.meraki.com/Virtual-switch/n/IItm2bqb/manage/nodes/new_list/84424578695416\"\n  },\n  {\n    \"address\": \"\",\n    \"configurationUpdatedAt\": \"2020-07-07T23:36:50Z\",\n    \"firmware\": \"Not running configured version\",\n    \"lanIp\": null,\n    \"lat\": 37.4180951010362,\n    \"lng\": -122.098531723022,\n    \"mac\": \"4c:c8:a1:08:00:09\",\n    \"model\": \"MS410-16\",\n    \"name\": \"\",\n    \"networkId\": \"L_607985949695028346\",\n    \"notes\": \"\",\n    \"serial\": \"QBSB-BDX9-8AZP\",\n    \"tags\": [],\n    \"url\": \"https://n80.meraki.com/Virtual-switch/n/IItm2bqb/manage/nodes/new_list/84424578826249\"\n  },\n  {\n    \"address\": \"\",\n    \"configurationUpdatedAt\": \"2020-07-07T00:08:05Z\",\n    \"firmware\": \"Not running configured version\",\n    \"lanIp\": null,\n    \"lat\": 37.4180951010362,\n    \"lng\": -122.098531723022,\n    \"mac\": \"4c:c8:a1:09:00:f8\",\n    \"model\": \"MS425-32\",\n    \"name\": \"\",\n    \"networkId\": \"L_607985949695028346\",\n    \"notes\": \"\",\n    \"serial\": \"QBSB-DD84-RCQS\",\n    \"tags\": [],\n    \"url\": \"https://n80.meraki.com/Virtual-switch/n/IItm2bqb/manage/nodes/new_list/84424578892024\"\n  },\n  {\n    \"address\": \"\",\n    \"configurationUpdatedAt\": \"2020-07-07T23:36:50Z\",\n    \"firmware\": \"Not running configured version\",\n    \"lanIp\": null,\n    \"lat\": 37.4180951010362,\n    \"lng\": -122.098531723022,\n    \"mac\": \"4c:c8:a1:08:00:0a\",\n    \"model\": \"MS410-16\",\n    \"name\": \"\",\n    \"networkId\": \"L_607985949695028346\",\n    \"notes\": \"\",\n    \"serial\": \"QBSB-DLV3-235C\",\n    \"tags\": [\n      \"APIness\"\n    ],\n    \"url\": \"https://n80.meraki.com/Virtual-switch/n/IItm2bqb/manage/nodes/new_list/84424578826250\"\n  },\n  {\n    \"address\": \"\",\n    \"configurationUpdatedAt\": \"2020-07-07T00:08:05Z\",\n    \"firmware\": \"Not running configured version\",\n    \"lanIp\": null,\n    \"lat\": 37.4180951010362,\n    \"lng\": -122.098531723022,\n    \"mac\": \"4c:c8:a1:07:00:f8\",\n    \"model\": \"MS350-48LP\",\n    \"name\": \"\",\n    \"networkId\": \"L_607985949695028346\",\n    \"notes\": \"\",\n    \"serial\": \"QBSB-E3LG-VEQZ\",\n    \"tags\": [],\n    \"url\": \"https://n80.meraki.com/Virtual-switch/n/IItm2bqb/manage/nodes/new_list/84424578760952\"\n  },\n  {\n    \"address\": \"\",\n    \"configurationUpdatedAt\": \"2020-07-07T23:36:50Z\",\n    \"firmware\": \"Not running configured version\",\n    \"lanIp\": null,\n    \"lat\": 37.4180951010362,\n    \"lng\": -122.098531723022,\n    \"mac\": \"4c:c8:a1:08:00:f8\",\n    \"model\": \"MS410-16\",\n    \"name\": \"\",\n    \"networkId\": \"L_607985949695028346\",\n    \"notes\": \"\",\n    \"serial\": \"QBSB-HXH8-6N32\",\n    \"tags\": [],\n    \"url\": \"https://n80.meraki.com/Virtual-switch/n/IItm2bqb/manage/nodes/new_list/84424578826488\"\n  },\n  {\n    \"address\": \"\",\n    \"configurationUpdatedAt\": \"2020-07-07T00:08:05Z\",\n    \"firmware\": \"Not running configured version\",\n    \"lanIp\": null,\n    \"lat\": 37.4180951010362,\n    \"lng\": -122.098531723022,\n    \"mac\": \"4c:c8:a1:05:00:f8\",\n    \"model\": \"MS120-8FP\",\n    \"name\": \"\",\n    \"networkId\": \"L_607985949695028346\",\n    \"notes\": \"\",\n    \"serial\": \"QBSB-PP5Z-HJ84\",\n    \"tags\": [],\n    \"url\": \"https://n80.meraki.com/Virtual-switch/n/IItm2bqb/manage/nodes/new_list/84424578629880\"\n  },\n  {\n    \"address\": \"\",\n    \"configurationUpdatedAt\": \"2020-07-07T23:36:50Z\",\n    \"firmware\": \"Not running configured version\",\n    \"lanIp\": null,\n    \"lat\": 37.4180951010362,\n    \"lng\": -122.098531723022,\n    \"mac\": \"4c:c8:a1:08:00:0b\",\n    \"model\": \"MS410-16\",\n    \"name\": \"\",\n    \"networkId\": \"L_607985949695028346\",\n    \"notes\": \"\",\n    \"serial\": \"QBSB-YYWS-RCY7\",\n    \"tags\": [\n      \"APIness\"\n    ],\n    \"url\": \"https://n80.meraki.com/Virtual-switch/n/IItm2bqb/manage/nodes/new_list/84424578826251\"\n  }\n]\n"
    }
   ],
   "source": [
    "devices = dashboard.organizations.getOrganizationDevices(organizationId=firstOrganizationId)\n",
    "devices_statuses = dashboard.organizations.getOrganizationDevicesStatuses(organizationId=firstOrganizationId)\n",
    "\n",
    "# Let's get the switch devices list\n",
    "devices_switches = [i for i in devices if 'MS' in i['model']]\n",
    "print('These are the switches:')\n",
    "printj(devices_switches)\n",
    "\n",
    "# Make a new list of all the serials from devices_switches\n",
    "devices_switches_serials = [i['serial'] for i in devices_switches]"
   ]
  },
  {
   "cell_type": "markdown",
   "metadata": {},
   "source": [
    "Great! Now we have a list of all the switches and their statuses `devices_switches`, as well a separate list of just their serials `devices_switches_serials`, but we only want the ones that are offline. So here, we'll use more list comprehensions to narrow down the list and create a new list with only the information we need."
   ]
  },
  {
   "cell_type": "code",
   "execution_count": 6,
   "metadata": {
    "tags": []
   },
   "outputs": [
    {
     "output_type": "stream",
     "name": "stdout",
     "text": "We can list out the statuses (and whatever metadata we need) for these switches:\nSwitch statuses are:\n[\n  {\n    \"serial\": \"Q2BX-DEZ3-LGMD\",\n    \"status\": \"offline\"\n  },\n  {\n    \"serial\": \"QBSB-AK7F-URKC\",\n    \"status\": \"offline\"\n  },\n  {\n    \"serial\": \"QBSB-BDX9-8AZP\",\n    \"status\": \"offline\"\n  },\n  {\n    \"serial\": \"QBSB-DD84-RCQS\",\n    \"status\": \"offline\"\n  },\n  {\n    \"serial\": \"QBSB-DLV3-235C\",\n    \"status\": \"offline\"\n  },\n  {\n    \"serial\": \"QBSB-E3LG-VEQZ\",\n    \"status\": \"offline\"\n  },\n  {\n    \"serial\": \"QBSB-HXH8-6N32\",\n    \"status\": \"offline\"\n  },\n  {\n    \"serial\": \"QBSB-PP5Z-HJ84\",\n    \"status\": \"offline\"\n  },\n  {\n    \"serial\": \"QBSB-YYWS-RCY7\",\n    \"status\": \"offline\"\n  }\n]\n\nWe can narrow it down to the ones that are offline:\nOffline switches are:\n[\n  {\n    \"serial\": \"Q2BX-DEZ3-LGMD\",\n    \"status\": \"offline\"\n  },\n  {\n    \"serial\": \"QBSB-AK7F-URKC\",\n    \"status\": \"offline\"\n  },\n  {\n    \"serial\": \"QBSB-BDX9-8AZP\",\n    \"status\": \"offline\"\n  },\n  {\n    \"serial\": \"QBSB-DD84-RCQS\",\n    \"status\": \"offline\"\n  },\n  {\n    \"serial\": \"QBSB-DLV3-235C\",\n    \"status\": \"offline\"\n  },\n  {\n    \"serial\": \"QBSB-E3LG-VEQZ\",\n    \"status\": \"offline\"\n  },\n  {\n    \"serial\": \"QBSB-HXH8-6N32\",\n    \"status\": \"offline\"\n  },\n  {\n    \"serial\": \"QBSB-PP5Z-HJ84\",\n    \"status\": \"offline\"\n  },\n  {\n    \"serial\": \"QBSB-YYWS-RCY7\",\n    \"status\": \"offline\"\n  }\n]\n"
    }
   ],
   "source": [
    "# Now we can list out the statuses (and whatever metadata we need) for these switches\n",
    "print('We can list out the statuses (and whatever metadata we need) for these switches:')\n",
    "devices_statuses_switches = [{'serial': i['serial'], 'status':i['status']} for i in devices_statuses if i['serial'] in devices_switches_serials]\n",
    "print('Switch statuses are:')\n",
    "printj(devices_statuses_switches)\n",
    "\n",
    "# Print a blank line for legibility\n",
    "print('')\n",
    "\n",
    "# We can narrow it down to the ones that are offline\n",
    "print('We can narrow it down to the ones that are offline:')\n",
    "devices_statuses_switches_offline = [i for i in devices_statuses_switches if i['status'] != 'online']\n",
    "print('Offline switches are:')\n",
    "printj(devices_statuses_switches_offline)"
   ]
  },
  {
   "cell_type": "markdown",
   "metadata": {},
   "source": [
    "We started from the devices list, and the devices statuses list, and created a list of offline switches. Now let's look at when they last reported to the Dashboard."
   ]
  },
  {
   "cell_type": "code",
   "execution_count": 7,
   "metadata": {
    "tags": []
   },
   "outputs": [
    {
     "output_type": "stream",
     "name": "stdout",
     "text": "[\n  {\n    \"lastReportedAt\": \"2020-07-22 20:14:17.501\",\n    \"serial\": \"Q2BX-DEZ3-LGMD\"\n  },\n  {\n    \"lastReportedAt\": null,\n    \"serial\": \"QBSB-AK7F-URKC\"\n  },\n  {\n    \"lastReportedAt\": null,\n    \"serial\": \"QBSB-BDX9-8AZP\"\n  },\n  {\n    \"lastReportedAt\": null,\n    \"serial\": \"QBSB-DD84-RCQS\"\n  },\n  {\n    \"lastReportedAt\": null,\n    \"serial\": \"QBSB-DLV3-235C\"\n  },\n  {\n    \"lastReportedAt\": null,\n    \"serial\": \"QBSB-E3LG-VEQZ\"\n  },\n  {\n    \"lastReportedAt\": null,\n    \"serial\": \"QBSB-HXH8-6N32\"\n  },\n  {\n    \"lastReportedAt\": null,\n    \"serial\": \"QBSB-PP5Z-HJ84\"\n  },\n  {\n    \"lastReportedAt\": null,\n    \"serial\": \"QBSB-YYWS-RCY7\"\n  }\n]\n"
    }
   ],
   "source": [
    "# Another list comprehension!\n",
    "devices_last_reported_times = [{'serial': i['serial'], 'lastReportedAt': i['lastReportedAt']} for i in devices_statuses if i['serial'] in devices_switches_serials]\n",
    "\n",
    "printj(devices_last_reported_times)"
   ]
  },
  {
   "cell_type": "markdown",
   "metadata": {},
   "source": [
    "# Final steps\n",
    "\n",
    "Excellent, now we have a list of offline switches, and it's pretty easy to read. But what if we could use this in an Excel format? Well, there's a Python module for that, too. In this case, we're using [tablib](https://pypi.org/project/tablib/)."
   ]
  },
  {
   "cell_type": "code",
   "execution_count": 13,
   "metadata": {
    "tags": []
   },
   "outputs": [
    {
     "output_type": "stream",
     "name": "stdout",
     "text": "serial        |lastReportedAt         \n--------------|-----------------------\nQ2BX-DEZ3-LGMD|2020-07-22 20:14:17.501\nQBSB-AK7F-URKC|None                   \nQBSB-BDX9-8AZP|None                   \nQBSB-DD84-RCQS|None                   \nQBSB-DLV3-235C|None                   \nQBSB-E3LG-VEQZ|None                   \nQBSB-HXH8-6N32|None                   \nQBSB-PP5Z-HJ84|None                   \nQBSB-YYWS-RCY7|None                   \n"
    }
   ],
   "source": [
    "# Let's convert that JSON-formatted data to a tabular dataset. You can copy/paste this into Excel, or write additional Python to create a new Excel file entirely!\n",
    "excel_formatted = tablib.import_set(json.dumps(devices_last_reported_times), format = 'json')\n",
    "\n",
    "# Let's see how it looks!\n",
    "print(excel_formatted)"
   ]
  },
  {
   "cell_type": "markdown",
   "metadata": {},
   "source": [
    "# Final thoughts\n",
    "\n",
    "And we're done! Hopefully you found this a useful demonstration of just a few things that are possible with Meraki's Python SDK. These additional resources may prove useful along the way.\n",
    "\n",
    "[Meraki Interactive API Docs](https://developer.cisco.com/meraki/api-v1/#!overview): The official (and interactive!) Meraki API and SDK documentation repository on DevNet.\n",
    "\n",
    "[VS Code](https://code.visualstudio.com/): An excellent code editor with full support for Python and Python notebooks.\n",
    "\n",
    "[Automate the Boring Stuff with Python](https://automatetheboringstuff.com/): An excellent learning resource that puts the real-world problem first, then teaches you the Pythonic solution along the way."
   ]
  },
  {
   "cell_type": "code",
   "execution_count": null,
   "metadata": {},
   "outputs": [],
   "source": []
  }
 ],
 "metadata": {
  "kernelspec": {
   "display_name": "Python 3",
   "language": "python",
   "name": "python3"
  },
  "language_info": {
   "codemirror_mode": {
    "name": "ipython",
    "version": 3
   },
   "file_extension": ".py",
   "mimetype": "text/x-python",
   "name": "python",
   "nbconvert_exporter": "python",
   "pygments_lexer": "ipython3",
   "version": "3.8.4"
  }
 },
 "nbformat": 4,
 "nbformat_minor": 4
}